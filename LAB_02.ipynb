{
 "cells": [
  {
   "cell_type": "markdown",
   "metadata": {},
   "source": [
    "# 1"
   ]
  },
  {
   "cell_type": "code",
   "execution_count": 1,
   "metadata": {},
   "outputs": [],
   "source": [
    "def f_hh_mm_ss(segs):\n",
    "    \n",
    "    horas= segs//3600\n",
    "    minutos= (segs-horas*60)//60\n",
    "    segundos= segs-horas*3600-minutos*60\n",
    "    print('{} horas, {} minutos, {} segundos'.format(horas, minutos, segundos))\n",
    "    return horas, minutos, segundos\n"
   ]
  },
  {
   "cell_type": "code",
   "execution_count": 2,
   "metadata": {},
   "outputs": [
    {
     "name": "stdout",
     "output_type": "stream",
     "text": [
      "0 horas, 45 minutos, 43 segundos\n"
     ]
    },
    {
     "data": {
      "text/plain": [
       "(0, 45, 43)"
      ]
     },
     "execution_count": 2,
     "metadata": {},
     "output_type": "execute_result"
    }
   ],
   "source": [
    "f_hh_mm_ss(2743)"
   ]
  },
  {
   "cell_type": "markdown",
   "metadata": {},
   "source": [
    "# 2"
   ]
  },
  {
   "cell_type": "code",
   "execution_count": 3,
   "metadata": {},
   "outputs": [],
   "source": [
    "def f_car(c,n):\n",
    "    def t_shape(c,n,j):\n",
    "        x=''\n",
    "        for k in range(n):\n",
    "            if k%2==0:\n",
    "                x+=c*(j+1)+' '*(n-j-1)\n",
    "            else:\n",
    "                x+=c*(n-j-1)+' '*(j+1)\n",
    "        return x\n",
    "    for i in range(n):\n",
    "        print(t_shape(c,n,i))"
   ]
  },
  {
   "cell_type": "code",
   "execution_count": 4,
   "metadata": {},
   "outputs": [
    {
     "name": "stdout",
     "output_type": "stream",
     "text": [
      "*    **** *    **** *    \n",
      "**   ***  **   ***  **   \n",
      "***  **   ***  **   ***  \n",
      "**** *    **** *    **** \n",
      "*****     *****     *****\n"
     ]
    }
   ],
   "source": [
    "f_car('*', 5)"
   ]
  },
  {
   "cell_type": "markdown",
   "metadata": {},
   "source": [
    "# 3"
   ]
  },
  {
   "cell_type": "code",
   "execution_count": 5,
   "metadata": {},
   "outputs": [],
   "source": [
    "def fecha_edad(fecha):\n",
    "    from datetime import datetime\n",
    "    # dates in string format\n",
    "\n",
    "    # convert string to date object\n",
    "    d1 = datetime.strptime(fecha, \"%Y/%m/%d\")\n",
    "\n",
    "    # difference between dates in timedelta\n",
    "    delta = datetime.now() - d1\n",
    "    print(f'Difference is {delta.days} days')"
   ]
  },
  {
   "cell_type": "code",
   "execution_count": 6,
   "metadata": {},
   "outputs": [
    {
     "name": "stdout",
     "output_type": "stream",
     "text": [
      "Difference is 7308 days\n"
     ]
    }
   ],
   "source": [
    "fecha_edad('2003/03/03')"
   ]
  },
  {
   "cell_type": "markdown",
   "metadata": {},
   "source": [
    "# 4"
   ]
  },
  {
   "cell_type": "code",
   "execution_count": 7,
   "metadata": {},
   "outputs": [],
   "source": [
    "def f_t2s(tupla):\n",
    "    x=''\n",
    "    for val in tupla:\n",
    "        x+=str(val)\n",
    "    return x"
   ]
  },
  {
   "cell_type": "code",
   "execution_count": 8,
   "metadata": {},
   "outputs": [
    {
     "data": {
      "text/plain": [
       "'10203040'"
      ]
     },
     "execution_count": 8,
     "metadata": {},
     "output_type": "execute_result"
    }
   ],
   "source": [
    "f_t2s((10,20,30,40))"
   ]
  },
  {
   "cell_type": "markdown",
   "metadata": {},
   "source": [
    "# 5"
   ]
  },
  {
   "cell_type": "code",
   "execution_count": 9,
   "metadata": {},
   "outputs": [],
   "source": [
    "def empty_tuples(vec):\n",
    "    x=[]\n",
    "    for tp in vec:\n",
    "        if tp:\n",
    "            x.append(tp)\n",
    "    return x.copy()"
   ]
  },
  {
   "cell_type": "code",
   "execution_count": 10,
   "metadata": {},
   "outputs": [
    {
     "data": {
      "text/plain": [
       "['X', (1, 2, 3)]"
      ]
     },
     "execution_count": 10,
     "metadata": {},
     "output_type": "execute_result"
    }
   ],
   "source": [
    "empty_tuples([(),('X'),(1,2,3)])"
   ]
  },
  {
   "cell_type": "markdown",
   "metadata": {},
   "source": [
    "# 6"
   ]
  },
  {
   "cell_type": "code",
   "execution_count": 11,
   "metadata": {},
   "outputs": [],
   "source": [
    "def prom_tuplas(tupla):\n",
    "    x=[]\n",
    "    for tp in tupla:\n",
    "        i=0\n",
    "        s=0\n",
    "        for v in tp:\n",
    "            i+=1\n",
    "            s+=v\n",
    "        x.append(s/i)\n",
    "    return tuple(x)"
   ]
  },
  {
   "cell_type": "code",
   "execution_count": 12,
   "metadata": {},
   "outputs": [
    {
     "data": {
      "text/plain": [
       "(10.5, 44.0, 58.0)"
      ]
     },
     "execution_count": 12,
     "metadata": {},
     "output_type": "execute_result"
    }
   ],
   "source": [
    "prom_tuplas(((10, 10, 10, 12), (30, 45, 56, 45), (81, 80, 39, 32)))"
   ]
  },
  {
   "cell_type": "markdown",
   "metadata": {},
   "source": [
    "# 8 "
   ]
  },
  {
   "cell_type": "code",
   "execution_count": 19,
   "metadata": {},
   "outputs": [],
   "source": [
    "def f_deck():\n",
    "    x=[]\n",
    "    for t in ('T','P','C', 'E'):\n",
    "        for i in range(1,14):\n",
    "            x.append(t+str(i))\n",
    "    return x"
   ]
  },
  {
   "cell_type": "code",
   "execution_count": 26,
   "metadata": {},
   "outputs": [],
   "source": [
    "import numpy as np\n",
    "\n",
    "def sample_2(deck, s1, s2):    \n",
    "    return np.concatenate([np.random.choice(deck, s1, replace=False),np.random.choice(deck, s2, replace=False)])\n",
    "def sample_1(deck,s1):\n",
    "    return np.random.choice(deck, s1, replace=False)"
   ]
  },
  {
   "cell_type": "code",
   "execution_count": 27,
   "metadata": {},
   "outputs": [],
   "source": [
    "deck=f_deck()"
   ]
  },
  {
   "cell_type": "code",
   "execution_count": 30,
   "metadata": {},
   "outputs": [
    {
     "data": {
      "text/plain": [
       "array(['C9', 'C6', 'P11', 'E1', 'T5', 'P3', 'P4', 'E10', 'C11', 'T8'],\n",
       "      dtype='<U3')"
      ]
     },
     "execution_count": 30,
     "metadata": {},
     "output_type": "execute_result"
    }
   ],
   "source": [
    "sample_1(deck, 10)"
   ]
  },
  {
   "cell_type": "code",
   "execution_count": 29,
   "metadata": {},
   "outputs": [
    {
     "data": {
      "text/plain": [
       "array(['P2', 'T3', 'P5', 'P7', 'C12', 'C3', 'E5', 'E10', 'C5', 'P1', 'C4',\n",
       "       'C1', 'P3', 'P12', 'P5', 'T2', 'E4', 'T11', 'T5', 'E11', 'T13',\n",
       "       'C9', 'E10', 'P4', 'P9', 'E8', 'E7', 'T10', 'C10', 'E9'],\n",
       "      dtype='<U3')"
      ]
     },
     "execution_count": 29,
     "metadata": {},
     "output_type": "execute_result"
    }
   ],
   "source": [
    "sample_2(deck, 10, 20)"
   ]
  },
  {
   "cell_type": "code",
   "execution_count": null,
   "metadata": {},
   "outputs": [],
   "source": []
  }
 ],
 "metadata": {
  "kernelspec": {
   "display_name": "Python 3",
   "language": "python",
   "name": "python3"
  },
  "language_info": {
   "codemirror_mode": {
    "name": "ipython",
    "version": 3
   },
   "file_extension": ".py",
   "mimetype": "text/x-python",
   "name": "python",
   "nbconvert_exporter": "python",
   "pygments_lexer": "ipython3",
   "version": "3.10.8"
  }
 },
 "nbformat": 4,
 "nbformat_minor": 4
}
